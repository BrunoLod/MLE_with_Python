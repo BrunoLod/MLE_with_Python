{
 "cells": [
  {
   "cell_type": "markdown",
   "metadata": {},
   "source": [
    "### Apresentação \n",
    "\n",
    "Notebook destinado ao estudo de drifit, fenômeno relativo à mudança nos dados que podem afetar a capacidade preditiva dos modelos de ML. Assim como na realidade em que as coisas mudam - devir - o mesmo se dá com os dados, os quais podem se associar a dois principais tipos de mudança : \n",
    "\n",
    "* data drifit \n",
    "\n",
    "Relativo à mudanças estatísticas, quer seja relacionadas à distribuição dos dados na porção das features P(X), quer seja relativo às labels P(Y). Por exemplo, imagine se criaram-se um modelo para prever a probabilidade de um cliente comprar ou não comprar um produto. Esse modelo foi treinado com pessoas com faixas etárias entre 40 e 50. Contudo, pessos de faixas etárias menores passam a utilizar bastante o sistema, afetando a sua qualidade de inferência, dado que os valores das features mudou - isto é, a idade dos usuários. \n",
    "\n",
    "* concept drifit\n",
    "\n",
    "Relativo à mudança na relação íntima das features em relação às labels. P(Y|X) foi alterada. Por exemplo, pode-se pensar num cenário em que existe um modelo para prever a probabilidade de compras onlines feitas por um usuário. Contudo, ocorre a época de black friday - ou algo similar - de modo que a relação entre as features e as labels, para o que antes se apresentava de forma linear é alterado para uma disposição exponencial. Nota-se que a relação entre os dados se alterou, P(Y|X) foi alterado. \n",
    "\n",
    "Compreendido o que pode ser o fenômeno de data/concept drifit, é importante que consiga-se identificá-los em cenário de produção, para que os modelos possam ser ajustados novamente, para que não ofereçam respostas imprecisas. Tal capacidade é essencial pensando em termos de aplicações baseadas em ML, principalmente se é concebido a possibilidade de prover um cenário de retreinamentos automatizados, assim que a percepção de drifit é compreendida pelo sistema. "
   ]
  },
  {
   "cell_type": "markdown",
   "metadata": {},
   "source": [
    "### Librarys"
   ]
  },
  {
   "cell_type": "code",
   "execution_count": 1,
   "metadata": {},
   "outputs": [],
   "source": [
    "import alibi\n",
    "\n",
    "from sklearn.datasets import load_wine\n",
    "from sklearn.model_selection import train_test_split\n",
    "\n",
    "from alibi_detect.cd import TabularDrift"
   ]
  },
  {
   "cell_type": "markdown",
   "metadata": {},
   "source": [
    "#### Carregando o dataset"
   ]
  },
  {
   "cell_type": "code",
   "execution_count": 7,
   "metadata": {},
   "outputs": [],
   "source": [
    "wine_data = load_wine()"
   ]
  },
  {
   "cell_type": "code",
   "execution_count": 10,
   "metadata": {},
   "outputs": [],
   "source": [
    "feature_names = wine_data.feature_names\n",
    "\n",
    "X, y = wine_data.data, wine_data.target\n",
    "\n",
    "X_ref, X_test, y_ref, y_test = train_test_split(X, y, test_size=0.50, random_state=19)"
   ]
  },
  {
   "cell_type": "code",
   "execution_count": 11,
   "metadata": {},
   "outputs": [
    {
     "name": "stderr",
     "output_type": "stream",
     "text": [
      "c:\\Users\\Bruno\\Documents\\BrunoLod\\study_repos\\MLE_with_Python\\venv\\lib\\site-packages\\alibi_detect\\cd\\tabular.py:113: UserWarning: No `categories_per_feature` dict provided so all features are assumed to be numerical. `KSDrift` will be applied to all features.\n",
      "  warnings.warn('No `categories_per_feature` dict provided so all features are assumed to be numerical. '\n"
     ]
    }
   ],
   "source": [
    "data = TabularDrift(x_ref=X_ref, p_val=.05)\n",
    "preds = data.predict(X_test)\n",
    "labels = [\"No\", \"Yes\"]"
   ]
  },
  {
   "cell_type": "code",
   "execution_count": null,
   "metadata": {},
   "outputs": [
    {
     "ename": "KeyError",
     "evalue": "'is_drifit'",
     "output_type": "error",
     "traceback": [
      "\u001b[1;31m---------------------------------------------------------------------------\u001b[0m",
      "\u001b[1;31mKeyError\u001b[0m                                  Traceback (most recent call last)",
      "Cell \u001b[1;32mIn[12], line 1\u001b[0m\n\u001b[1;32m----> 1\u001b[0m response \u001b[38;5;241m=\u001b[39m labels[\u001b[43mpreds\u001b[49m\u001b[43m[\u001b[49m\u001b[38;5;124;43m\"\u001b[39;49m\u001b[38;5;124;43mdata\u001b[39;49m\u001b[38;5;124;43m\"\u001b[39;49m\u001b[43m]\u001b[49m\u001b[43m[\u001b[49m\u001b[38;5;124;43m\"\u001b[39;49m\u001b[38;5;124;43mis_drifit\u001b[39;49m\u001b[38;5;124;43m\"\u001b[39;49m\u001b[43m]\u001b[49m]\n\u001b[0;32m      2\u001b[0m \u001b[38;5;28mprint\u001b[39m(\u001b[38;5;124mf\u001b[39m\u001b[38;5;124m\"\u001b[39m\u001b[38;5;124mHá drifit ?\u001b[39m\u001b[38;5;130;01m\\n\u001b[39;00m\u001b[38;5;124mR: \u001b[39m\u001b[38;5;132;01m{\u001b[39;00mresponse\u001b[38;5;132;01m}\u001b[39;00m\u001b[38;5;124m\"\u001b[39m)\n",
      "\u001b[1;31mKeyError\u001b[0m: 'is_drifit'"
     ]
    }
   ],
   "source": [
    "response = labels[preds[\"data\"][\"is_drifit\"]]\n",
    "print(f\"Há drifit ? {response}\")\n"
   ]
  },
  {
   "cell_type": "code",
   "execution_count": null,
   "metadata": {},
   "outputs": [],
   "source": []
  }
 ],
 "metadata": {
  "kernelspec": {
   "display_name": "venv",
   "language": "python",
   "name": "python3"
  },
  "language_info": {
   "codemirror_mode": {
    "name": "ipython",
    "version": 3
   },
   "file_extension": ".py",
   "mimetype": "text/x-python",
   "name": "python",
   "nbconvert_exporter": "python",
   "pygments_lexer": "ipython3",
   "version": "3.10.11"
  }
 },
 "nbformat": 4,
 "nbformat_minor": 2
}
