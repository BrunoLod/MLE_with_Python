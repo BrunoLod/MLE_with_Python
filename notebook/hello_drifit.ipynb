{
 "cells": [
  {
   "cell_type": "markdown",
   "metadata": {},
   "source": [
    "### Apresentação \n",
    "\n",
    "Notebook destinado ao estudo de drifit, fenômeno relativo à mudança nos dados que podem afetar a capacidade preditiva dos modelos de ML. Assim como na realidade em que as coisas mudam - devir - o mesmo se dá com os dados, os quais podem se associar a dois principais tipos de mudança : \n",
    "\n",
    "* data drifit \n",
    "\n",
    "Relativo à mudanças estatísticas, quer seja relacionadas à distribuição dos dados na porção das features P(X), quer seja relativo às labels P(Y). Por exemplo, imagine se criaram-se um modelo para prever a probabilidade de um cliente comprar ou não comprar um produto. Esse modelo foi treinado com pessoas com faixas etárias entre 40 e 50. Contudo, pessos de faixas etárias menores passam a utilizar bastante o sistema, afetando a sua qualidade de inferência, dado que os valores das features mudou - isto é, a idade dos usuários. \n",
    "\n",
    "* concept drifit\n",
    "\n",
    "Relativo à mudança na relação íntima das features em relação às labels. P(Y|X) foi alterada. Por exemplo, pode-se pensar num cenário em que existe um modelo para prever a probabilidade de compras onlines feitas por um usuário. Contudo, ocorre a época de black friday - ou algo similar - de modo que a relação entre as features e as labels, para o que antes se apresentava de forma linear é alterado para uma disposição exponencial. Nota-se que a relação entre os dados se alterou, P(Y|X) foi alterado. \n",
    "\n",
    "Compreendido o que pode ser o fenômeno de data/concept drifit, é importante que consiga-se identificá-los em cenário de produção, para que os modelos possam ser ajustados novamente, para que não ofereçam respostas imprecisas. Tal capacidade é essencial pensando em termos de aplicações baseadas em ML, principalmente se é concebido a possibilidade de prover um cenário de retreinamentos automatizados, assim que a percepção de drifit é compreendida pelo sistema. "
   ]
  },
  {
   "cell_type": "markdown",
   "metadata": {},
   "source": [
    "### Librarys"
   ]
  },
  {
   "cell_type": "code",
   "execution_count": 1,
   "metadata": {},
   "outputs": [],
   "source": [
    "import alibi\n",
    "\n",
    "from sklearn.datasets import load_wine\n",
    "from sklearn.model_selection import train_test_split\n",
    "\n",
    "from alibi_detect.cd import TabularDrift"
   ]
  },
  {
   "cell_type": "markdown",
   "metadata": {},
   "source": [
    "#### Carregando o dataset"
   ]
  },
  {
   "cell_type": "code",
   "execution_count": 7,
   "metadata": {},
   "outputs": [],
   "source": [
    "wine_data = load_wine()"
   ]
  },
  {
   "cell_type": "markdown",
   "metadata": {},
   "source": [
    "#### Separando os dados\n",
    "\n",
    "Aqui estarei segmentando os dados em teste - relativo à predição - e em referência, utilizado para compreender a presença de drifit. "
   ]
  },
  {
   "cell_type": "code",
   "execution_count": 10,
   "metadata": {},
   "outputs": [],
   "source": [
    "feature_names = wine_data.feature_names\n",
    "\n",
    "X, y = wine_data.data, wine_data.target\n",
    "\n",
    "X_ref, X_test, y_ref, y_test = train_test_split(X, y, test_size=0.50, random_state=19)"
   ]
  },
  {
   "cell_type": "markdown",
   "metadata": {},
   "source": [
    "#### Verificando a presença de drifit"
   ]
  },
  {
   "cell_type": "code",
   "execution_count": null,
   "metadata": {},
   "outputs": [
    {
     "name": "stderr",
     "output_type": "stream",
     "text": [
      "c:\\Users\\Bruno\\Documents\\BrunoLod\\study_repos\\MLE_with_Python\\venv\\lib\\site-packages\\alibi_detect\\cd\\tabular.py:113: UserWarning: No `categories_per_feature` dict provided so all features are assumed to be numerical. `KSDrift` will be applied to all features.\n",
      "  warnings.warn('No `categories_per_feature` dict provided so all features are assumed to be numerical. '\n"
     ]
    }
   ],
   "source": [
    "# TabularDrifit é a classe que realiza o cálculo para saber se houve\n",
    "# ou não drifit. Existem outros argumentos que a ela podem ser informados,\n",
    "# mas estou informando aqui apenas as features de referência e o valor-p, \n",
    "# utilizado para me prover uma análise da ocorrência do fenômeno estudado \n",
    "# com 95% de confiança. \n",
    "\n",
    "\"\"\"\n",
    "Imagino que por debaixo dos panos a classe realiza um teste de hipótese para\n",
    "verificar se tanto X_ref quanto X_test fazem parte da mesma distribuição, de \n",
    "modo que é por meio do valor-p que é identificado se Ho é válido ou não. \n",
    "\"\"\"\n",
    "\n",
    "data = TabularDrift(x_ref=X_ref, p_val=.05)\n",
    "preds = data.predict(X_test)"
   ]
  },
  {
   "cell_type": "code",
   "execution_count": null,
   "metadata": {},
   "outputs": [
    {
     "name": "stdout",
     "output_type": "stream",
     "text": [
      "Drift: No\n"
     ]
    }
   ],
   "source": [
    "# Como pode ser visto, não há drifit. \n",
    "\n",
    "labels = [\"No\", \"Yes\"]\n",
    "print('Drift: {}'.format(labels[preds['data']['is_drift']]))"
   ]
  },
  {
   "cell_type": "markdown",
   "metadata": {},
   "source": [
    "#### Simulando a presença de drifit"
   ]
  },
  {
   "cell_type": "code",
   "execution_count": null,
   "metadata": {},
   "outputs": [
    {
     "name": "stdout",
     "output_type": "stream",
     "text": [
      "Drift: Yes\n"
     ]
    }
   ],
   "source": [
    "# Aqui estou alterando os valores dos dados - em features - em relação ao \n",
    "# que, então, havia produzindo drifit. \n",
    "\n",
    "X_test_call_error = 1.1*X_test\n",
    "\n",
    "preds = data.predict(X_test_call_error)\n",
    "print('Drift: {}'.format(labels[preds['data']['is_drift']]))\n"
   ]
  },
  {
   "cell_type": "markdown",
   "metadata": {},
   "source": [
    "Importante salientar que a técnica utilizada é uma detre as possíveis, de modo que o monitoramento da ocorrência de drifit poderia incidir por meio de métricas como MSE, acurácia, precision e assim por diante. "
   ]
  },
  {
   "cell_type": "code",
   "execution_count": null,
   "metadata": {},
   "outputs": [],
   "source": []
  }
 ],
 "metadata": {
  "kernelspec": {
   "display_name": "venv",
   "language": "python",
   "name": "python3"
  },
  "language_info": {
   "codemirror_mode": {
    "name": "ipython",
    "version": 3
   },
   "file_extension": ".py",
   "mimetype": "text/x-python",
   "name": "python",
   "nbconvert_exporter": "python",
   "pygments_lexer": "ipython3",
   "version": "3.10.11"
  }
 },
 "nbformat": 4,
 "nbformat_minor": 2
}
